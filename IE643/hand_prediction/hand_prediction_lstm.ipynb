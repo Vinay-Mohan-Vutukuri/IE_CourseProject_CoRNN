{
  "metadata": {
    "kernelspec": {
      "language": "python",
      "display_name": "Python 3",
      "name": "python3"
    },
    "language_info": {
      "pygments_lexer": "ipython3",
      "nbconvert_exporter": "python",
      "version": "3.6.4",
      "file_extension": ".py",
      "codemirror_mode": {
        "name": "ipython",
        "version": 3
      },
      "name": "python",
      "mimetype": "text/x-python"
    },
    "kaggle": {
      "accelerator": "none",
      "dataSources": [
        {
          "sourceId": 206004,
          "sourceType": "datasetVersion",
          "datasetId": 88836
        }
      ],
      "dockerImageVersionId": 30138,
      "isInternetEnabled": true,
      "language": "python",
      "sourceType": "notebook",
      "isGpuEnabled": false
    },
    "colab": {
      "provenance": []
    }
  },
  "nbformat_minor": 0,
  "nbformat": 4,
  "cells": [
    {
      "cell_type": "code",
      "source": [
        "import numpy as np # linear algebra\n",
        "import matplotlib.pylab as plt\n",
        "\n",
        "import pandas as pd # data processing\n",
        "import tensorflow as tf\n",
        "from sklearn.preprocessing import MinMaxScaler\n",
        "from sklearn.preprocessing import StandardScaler\n",
        "from sklearn.metrics import confusion_matrix\n",
        "\n",
        "\n",
        "plt.rcParams[\"figure.figsize\"] = (16,10) #Make the plots bigger by default\n",
        "plt.rcParams[\"lines.linewidth\"] = 2 #Setting the default line width\n",
        "plt.style.use(\"ggplot\")"
      ],
      "metadata": {
        "execution": {
          "iopub.status.busy": "2023-01-16T20:24:27.857606Z",
          "iopub.execute_input": "2023-01-16T20:24:27.858035Z",
          "iopub.status.idle": "2023-01-16T20:24:35.47589Z",
          "shell.execute_reply.started": "2023-01-16T20:24:27.857921Z",
          "shell.execute_reply": "2023-01-16T20:24:35.474783Z"
        },
        "trusted": true,
        "id": "n-0srTdSuU8C"
      },
      "execution_count": 3,
      "outputs": []
    },
    {
      "cell_type": "code",
      "source": [
        "from google.colab import files\n",
        "\n",
        "# Upload the Kaggle API key file\n",
        "uploaded = files.upload()"
      ],
      "metadata": {
        "colab": {
          "base_uri": "https://localhost:8080/",
          "height": 179
        },
        "id": "DZV8DmoyvESV",
        "outputId": "e1f6950e-48d2-420b-80d2-48a0654bf2a6"
      },
      "execution_count": 4,
      "outputs": [
        {
          "output_type": "display_data",
          "data": {
            "text/plain": [
              "<IPython.core.display.HTML object>"
            ],
            "text/html": [
              "\n",
              "     <input type=\"file\" id=\"files-c964c897-5674-4a21-8f2d-4ec2cd4698cc\" name=\"files[]\" multiple disabled\n",
              "        style=\"border:none\" />\n",
              "     <output id=\"result-c964c897-5674-4a21-8f2d-4ec2cd4698cc\">\n",
              "      Upload widget is only available when the cell has been executed in the\n",
              "      current browser session. Please rerun this cell to enable.\n",
              "      </output>\n",
              "      <script>// Copyright 2017 Google LLC\n",
              "//\n",
              "// Licensed under the Apache License, Version 2.0 (the \"License\");\n",
              "// you may not use this file except in compliance with the License.\n",
              "// You may obtain a copy of the License at\n",
              "//\n",
              "//      http://www.apache.org/licenses/LICENSE-2.0\n",
              "//\n",
              "// Unless required by applicable law or agreed to in writing, software\n",
              "// distributed under the License is distributed on an \"AS IS\" BASIS,\n",
              "// WITHOUT WARRANTIES OR CONDITIONS OF ANY KIND, either express or implied.\n",
              "// See the License for the specific language governing permissions and\n",
              "// limitations under the License.\n",
              "\n",
              "/**\n",
              " * @fileoverview Helpers for google.colab Python module.\n",
              " */\n",
              "(function(scope) {\n",
              "function span(text, styleAttributes = {}) {\n",
              "  const element = document.createElement('span');\n",
              "  element.textContent = text;\n",
              "  for (const key of Object.keys(styleAttributes)) {\n",
              "    element.style[key] = styleAttributes[key];\n",
              "  }\n",
              "  return element;\n",
              "}\n",
              "\n",
              "// Max number of bytes which will be uploaded at a time.\n",
              "const MAX_PAYLOAD_SIZE = 100 * 1024;\n",
              "\n",
              "function _uploadFiles(inputId, outputId) {\n",
              "  const steps = uploadFilesStep(inputId, outputId);\n",
              "  const outputElement = document.getElementById(outputId);\n",
              "  // Cache steps on the outputElement to make it available for the next call\n",
              "  // to uploadFilesContinue from Python.\n",
              "  outputElement.steps = steps;\n",
              "\n",
              "  return _uploadFilesContinue(outputId);\n",
              "}\n",
              "\n",
              "// This is roughly an async generator (not supported in the browser yet),\n",
              "// where there are multiple asynchronous steps and the Python side is going\n",
              "// to poll for completion of each step.\n",
              "// This uses a Promise to block the python side on completion of each step,\n",
              "// then passes the result of the previous step as the input to the next step.\n",
              "function _uploadFilesContinue(outputId) {\n",
              "  const outputElement = document.getElementById(outputId);\n",
              "  const steps = outputElement.steps;\n",
              "\n",
              "  const next = steps.next(outputElement.lastPromiseValue);\n",
              "  return Promise.resolve(next.value.promise).then((value) => {\n",
              "    // Cache the last promise value to make it available to the next\n",
              "    // step of the generator.\n",
              "    outputElement.lastPromiseValue = value;\n",
              "    return next.value.response;\n",
              "  });\n",
              "}\n",
              "\n",
              "/**\n",
              " * Generator function which is called between each async step of the upload\n",
              " * process.\n",
              " * @param {string} inputId Element ID of the input file picker element.\n",
              " * @param {string} outputId Element ID of the output display.\n",
              " * @return {!Iterable<!Object>} Iterable of next steps.\n",
              " */\n",
              "function* uploadFilesStep(inputId, outputId) {\n",
              "  const inputElement = document.getElementById(inputId);\n",
              "  inputElement.disabled = false;\n",
              "\n",
              "  const outputElement = document.getElementById(outputId);\n",
              "  outputElement.innerHTML = '';\n",
              "\n",
              "  const pickedPromise = new Promise((resolve) => {\n",
              "    inputElement.addEventListener('change', (e) => {\n",
              "      resolve(e.target.files);\n",
              "    });\n",
              "  });\n",
              "\n",
              "  const cancel = document.createElement('button');\n",
              "  inputElement.parentElement.appendChild(cancel);\n",
              "  cancel.textContent = 'Cancel upload';\n",
              "  const cancelPromise = new Promise((resolve) => {\n",
              "    cancel.onclick = () => {\n",
              "      resolve(null);\n",
              "    };\n",
              "  });\n",
              "\n",
              "  // Wait for the user to pick the files.\n",
              "  const files = yield {\n",
              "    promise: Promise.race([pickedPromise, cancelPromise]),\n",
              "    response: {\n",
              "      action: 'starting',\n",
              "    }\n",
              "  };\n",
              "\n",
              "  cancel.remove();\n",
              "\n",
              "  // Disable the input element since further picks are not allowed.\n",
              "  inputElement.disabled = true;\n",
              "\n",
              "  if (!files) {\n",
              "    return {\n",
              "      response: {\n",
              "        action: 'complete',\n",
              "      }\n",
              "    };\n",
              "  }\n",
              "\n",
              "  for (const file of files) {\n",
              "    const li = document.createElement('li');\n",
              "    li.append(span(file.name, {fontWeight: 'bold'}));\n",
              "    li.append(span(\n",
              "        `(${file.type || 'n/a'}) - ${file.size} bytes, ` +\n",
              "        `last modified: ${\n",
              "            file.lastModifiedDate ? file.lastModifiedDate.toLocaleDateString() :\n",
              "                                    'n/a'} - `));\n",
              "    const percent = span('0% done');\n",
              "    li.appendChild(percent);\n",
              "\n",
              "    outputElement.appendChild(li);\n",
              "\n",
              "    const fileDataPromise = new Promise((resolve) => {\n",
              "      const reader = new FileReader();\n",
              "      reader.onload = (e) => {\n",
              "        resolve(e.target.result);\n",
              "      };\n",
              "      reader.readAsArrayBuffer(file);\n",
              "    });\n",
              "    // Wait for the data to be ready.\n",
              "    let fileData = yield {\n",
              "      promise: fileDataPromise,\n",
              "      response: {\n",
              "        action: 'continue',\n",
              "      }\n",
              "    };\n",
              "\n",
              "    // Use a chunked sending to avoid message size limits. See b/62115660.\n",
              "    let position = 0;\n",
              "    do {\n",
              "      const length = Math.min(fileData.byteLength - position, MAX_PAYLOAD_SIZE);\n",
              "      const chunk = new Uint8Array(fileData, position, length);\n",
              "      position += length;\n",
              "\n",
              "      const base64 = btoa(String.fromCharCode.apply(null, chunk));\n",
              "      yield {\n",
              "        response: {\n",
              "          action: 'append',\n",
              "          file: file.name,\n",
              "          data: base64,\n",
              "        },\n",
              "      };\n",
              "\n",
              "      let percentDone = fileData.byteLength === 0 ?\n",
              "          100 :\n",
              "          Math.round((position / fileData.byteLength) * 100);\n",
              "      percent.textContent = `${percentDone}% done`;\n",
              "\n",
              "    } while (position < fileData.byteLength);\n",
              "  }\n",
              "\n",
              "  // All done.\n",
              "  yield {\n",
              "    response: {\n",
              "      action: 'complete',\n",
              "    }\n",
              "  };\n",
              "}\n",
              "\n",
              "scope.google = scope.google || {};\n",
              "scope.google.colab = scope.google.colab || {};\n",
              "scope.google.colab._files = {\n",
              "  _uploadFiles,\n",
              "  _uploadFilesContinue,\n",
              "};\n",
              "})(self);\n",
              "</script> "
            ]
          },
          "metadata": {}
        },
        {
          "output_type": "stream",
          "name": "stdout",
          "text": [
            "Saving 3.csv to 3.csv\n",
            "Saving 2.csv to 2.csv\n",
            "Saving 1.csv to 1.csv\n",
            "Saving 0.csv to 0.csv\n"
          ]
        }
      ]
    },
    {
      "cell_type": "code",
      "source": [
        "df0 = pd.read_csv(\"./0.csv\", header=None )\n",
        "df1 = pd.read_csv(\"./1.csv\", header=None )\n",
        "df2 = pd.read_csv(\"./2.csv\", header=None )\n",
        "df3 = pd.read_csv(\"./3.csv\", header=None )\n",
        "df = pd.concat([df0,df1,df2,df3], axis = 0)\n",
        "df = df.sample(frac=1).reset_index(drop=True)\n",
        "\n",
        "df.head()"
      ],
      "metadata": {
        "execution": {
          "iopub.status.busy": "2023-01-16T20:24:35.477953Z",
          "iopub.execute_input": "2023-01-16T20:24:35.478282Z",
          "iopub.status.idle": "2023-01-16T20:24:35.773076Z",
          "shell.execute_reply.started": "2023-01-16T20:24:35.478245Z",
          "shell.execute_reply": "2023-01-16T20:24:35.772196Z"
        },
        "trusted": true,
        "colab": {
          "base_uri": "https://localhost:8080/",
          "height": 236
        },
        "id": "kfiLRK5CuU8D",
        "outputId": "975f29ff-0f70-4d1a-da9f-d70b1d3b21dd"
      },
      "execution_count": 5,
      "outputs": [
        {
          "output_type": "execute_result",
          "data": {
            "text/plain": [
              "     0    1    2    3     4     5    6     7     8    9   ...    55    56  \\\n",
              "0 -23.0 -4.0 -1.0  1.0   2.0  -4.0  2.0 -20.0   0.0  1.0  ...  -9.0  -4.0   \n",
              "1 -12.0 -1.0  3.0 -7.0  -7.0  -8.0  2.0  -6.0   4.0 -3.0  ...   3.0   0.0   \n",
              "2   1.0  2.0  2.0  1.0  -3.0  -4.0  8.0   4.0   4.0 -4.0  ... -20.0 -15.0   \n",
              "3  -8.0  2.0 -3.0  2.0  34.0  21.0 -4.0 -11.0  10.0  2.0  ... -13.0   0.0   \n",
              "4  -2.0 -3.0  0.0  2.0   9.0  19.0  8.0  -2.0   3.0 -2.0  ...   1.0  -4.0   \n",
              "\n",
              "    57   58    59    60    61    62   63  64  \n",
              "0 -3.0  1.0   0.0   0.0 -11.0  -4.0 -5.0   1  \n",
              "1  6.0  4.0  -4.0 -16.0 -14.0  -5.0 -6.0   2  \n",
              "2 -3.0 -8.0 -17.0  -3.0  -5.0 -68.0  3.0   0  \n",
              "3 -1.0 -2.0  -3.0 -38.0  -6.0   1.0 -6.0   1  \n",
              "4 -2.0 -2.0  -2.0   3.0 -23.0  -5.0  1.0   3  \n",
              "\n",
              "[5 rows x 65 columns]"
            ],
            "text/html": [
              "\n",
              "  <div id=\"df-86384f87-8829-4fe0-9cf8-dfaf2e2a60bd\" class=\"colab-df-container\">\n",
              "    <div>\n",
              "<style scoped>\n",
              "    .dataframe tbody tr th:only-of-type {\n",
              "        vertical-align: middle;\n",
              "    }\n",
              "\n",
              "    .dataframe tbody tr th {\n",
              "        vertical-align: top;\n",
              "    }\n",
              "\n",
              "    .dataframe thead th {\n",
              "        text-align: right;\n",
              "    }\n",
              "</style>\n",
              "<table border=\"1\" class=\"dataframe\">\n",
              "  <thead>\n",
              "    <tr style=\"text-align: right;\">\n",
              "      <th></th>\n",
              "      <th>0</th>\n",
              "      <th>1</th>\n",
              "      <th>2</th>\n",
              "      <th>3</th>\n",
              "      <th>4</th>\n",
              "      <th>5</th>\n",
              "      <th>6</th>\n",
              "      <th>7</th>\n",
              "      <th>8</th>\n",
              "      <th>9</th>\n",
              "      <th>...</th>\n",
              "      <th>55</th>\n",
              "      <th>56</th>\n",
              "      <th>57</th>\n",
              "      <th>58</th>\n",
              "      <th>59</th>\n",
              "      <th>60</th>\n",
              "      <th>61</th>\n",
              "      <th>62</th>\n",
              "      <th>63</th>\n",
              "      <th>64</th>\n",
              "    </tr>\n",
              "  </thead>\n",
              "  <tbody>\n",
              "    <tr>\n",
              "      <th>0</th>\n",
              "      <td>-23.0</td>\n",
              "      <td>-4.0</td>\n",
              "      <td>-1.0</td>\n",
              "      <td>1.0</td>\n",
              "      <td>2.0</td>\n",
              "      <td>-4.0</td>\n",
              "      <td>2.0</td>\n",
              "      <td>-20.0</td>\n",
              "      <td>0.0</td>\n",
              "      <td>1.0</td>\n",
              "      <td>...</td>\n",
              "      <td>-9.0</td>\n",
              "      <td>-4.0</td>\n",
              "      <td>-3.0</td>\n",
              "      <td>1.0</td>\n",
              "      <td>0.0</td>\n",
              "      <td>0.0</td>\n",
              "      <td>-11.0</td>\n",
              "      <td>-4.0</td>\n",
              "      <td>-5.0</td>\n",
              "      <td>1</td>\n",
              "    </tr>\n",
              "    <tr>\n",
              "      <th>1</th>\n",
              "      <td>-12.0</td>\n",
              "      <td>-1.0</td>\n",
              "      <td>3.0</td>\n",
              "      <td>-7.0</td>\n",
              "      <td>-7.0</td>\n",
              "      <td>-8.0</td>\n",
              "      <td>2.0</td>\n",
              "      <td>-6.0</td>\n",
              "      <td>4.0</td>\n",
              "      <td>-3.0</td>\n",
              "      <td>...</td>\n",
              "      <td>3.0</td>\n",
              "      <td>0.0</td>\n",
              "      <td>6.0</td>\n",
              "      <td>4.0</td>\n",
              "      <td>-4.0</td>\n",
              "      <td>-16.0</td>\n",
              "      <td>-14.0</td>\n",
              "      <td>-5.0</td>\n",
              "      <td>-6.0</td>\n",
              "      <td>2</td>\n",
              "    </tr>\n",
              "    <tr>\n",
              "      <th>2</th>\n",
              "      <td>1.0</td>\n",
              "      <td>2.0</td>\n",
              "      <td>2.0</td>\n",
              "      <td>1.0</td>\n",
              "      <td>-3.0</td>\n",
              "      <td>-4.0</td>\n",
              "      <td>8.0</td>\n",
              "      <td>4.0</td>\n",
              "      <td>4.0</td>\n",
              "      <td>-4.0</td>\n",
              "      <td>...</td>\n",
              "      <td>-20.0</td>\n",
              "      <td>-15.0</td>\n",
              "      <td>-3.0</td>\n",
              "      <td>-8.0</td>\n",
              "      <td>-17.0</td>\n",
              "      <td>-3.0</td>\n",
              "      <td>-5.0</td>\n",
              "      <td>-68.0</td>\n",
              "      <td>3.0</td>\n",
              "      <td>0</td>\n",
              "    </tr>\n",
              "    <tr>\n",
              "      <th>3</th>\n",
              "      <td>-8.0</td>\n",
              "      <td>2.0</td>\n",
              "      <td>-3.0</td>\n",
              "      <td>2.0</td>\n",
              "      <td>34.0</td>\n",
              "      <td>21.0</td>\n",
              "      <td>-4.0</td>\n",
              "      <td>-11.0</td>\n",
              "      <td>10.0</td>\n",
              "      <td>2.0</td>\n",
              "      <td>...</td>\n",
              "      <td>-13.0</td>\n",
              "      <td>0.0</td>\n",
              "      <td>-1.0</td>\n",
              "      <td>-2.0</td>\n",
              "      <td>-3.0</td>\n",
              "      <td>-38.0</td>\n",
              "      <td>-6.0</td>\n",
              "      <td>1.0</td>\n",
              "      <td>-6.0</td>\n",
              "      <td>1</td>\n",
              "    </tr>\n",
              "    <tr>\n",
              "      <th>4</th>\n",
              "      <td>-2.0</td>\n",
              "      <td>-3.0</td>\n",
              "      <td>0.0</td>\n",
              "      <td>2.0</td>\n",
              "      <td>9.0</td>\n",
              "      <td>19.0</td>\n",
              "      <td>8.0</td>\n",
              "      <td>-2.0</td>\n",
              "      <td>3.0</td>\n",
              "      <td>-2.0</td>\n",
              "      <td>...</td>\n",
              "      <td>1.0</td>\n",
              "      <td>-4.0</td>\n",
              "      <td>-2.0</td>\n",
              "      <td>-2.0</td>\n",
              "      <td>-2.0</td>\n",
              "      <td>3.0</td>\n",
              "      <td>-23.0</td>\n",
              "      <td>-5.0</td>\n",
              "      <td>1.0</td>\n",
              "      <td>3</td>\n",
              "    </tr>\n",
              "  </tbody>\n",
              "</table>\n",
              "<p>5 rows × 65 columns</p>\n",
              "</div>\n",
              "    <div class=\"colab-df-buttons\">\n",
              "\n",
              "  <div class=\"colab-df-container\">\n",
              "    <button class=\"colab-df-convert\" onclick=\"convertToInteractive('df-86384f87-8829-4fe0-9cf8-dfaf2e2a60bd')\"\n",
              "            title=\"Convert this dataframe to an interactive table.\"\n",
              "            style=\"display:none;\">\n",
              "\n",
              "  <svg xmlns=\"http://www.w3.org/2000/svg\" height=\"24px\" viewBox=\"0 -960 960 960\">\n",
              "    <path d=\"M120-120v-720h720v720H120Zm60-500h600v-160H180v160Zm220 220h160v-160H400v160Zm0 220h160v-160H400v160ZM180-400h160v-160H180v160Zm440 0h160v-160H620v160ZM180-180h160v-160H180v160Zm440 0h160v-160H620v160Z\"/>\n",
              "  </svg>\n",
              "    </button>\n",
              "\n",
              "  <style>\n",
              "    .colab-df-container {\n",
              "      display:flex;\n",
              "      gap: 12px;\n",
              "    }\n",
              "\n",
              "    .colab-df-convert {\n",
              "      background-color: #E8F0FE;\n",
              "      border: none;\n",
              "      border-radius: 50%;\n",
              "      cursor: pointer;\n",
              "      display: none;\n",
              "      fill: #1967D2;\n",
              "      height: 32px;\n",
              "      padding: 0 0 0 0;\n",
              "      width: 32px;\n",
              "    }\n",
              "\n",
              "    .colab-df-convert:hover {\n",
              "      background-color: #E2EBFA;\n",
              "      box-shadow: 0px 1px 2px rgba(60, 64, 67, 0.3), 0px 1px 3px 1px rgba(60, 64, 67, 0.15);\n",
              "      fill: #174EA6;\n",
              "    }\n",
              "\n",
              "    .colab-df-buttons div {\n",
              "      margin-bottom: 4px;\n",
              "    }\n",
              "\n",
              "    [theme=dark] .colab-df-convert {\n",
              "      background-color: #3B4455;\n",
              "      fill: #D2E3FC;\n",
              "    }\n",
              "\n",
              "    [theme=dark] .colab-df-convert:hover {\n",
              "      background-color: #434B5C;\n",
              "      box-shadow: 0px 1px 3px 1px rgba(0, 0, 0, 0.15);\n",
              "      filter: drop-shadow(0px 1px 2px rgba(0, 0, 0, 0.3));\n",
              "      fill: #FFFFFF;\n",
              "    }\n",
              "  </style>\n",
              "\n",
              "    <script>\n",
              "      const buttonEl =\n",
              "        document.querySelector('#df-86384f87-8829-4fe0-9cf8-dfaf2e2a60bd button.colab-df-convert');\n",
              "      buttonEl.style.display =\n",
              "        google.colab.kernel.accessAllowed ? 'block' : 'none';\n",
              "\n",
              "      async function convertToInteractive(key) {\n",
              "        const element = document.querySelector('#df-86384f87-8829-4fe0-9cf8-dfaf2e2a60bd');\n",
              "        const dataTable =\n",
              "          await google.colab.kernel.invokeFunction('convertToInteractive',\n",
              "                                                    [key], {});\n",
              "        if (!dataTable) return;\n",
              "\n",
              "        const docLinkHtml = 'Like what you see? Visit the ' +\n",
              "          '<a target=\"_blank\" href=https://colab.research.google.com/notebooks/data_table.ipynb>data table notebook</a>'\n",
              "          + ' to learn more about interactive tables.';\n",
              "        element.innerHTML = '';\n",
              "        dataTable['output_type'] = 'display_data';\n",
              "        await google.colab.output.renderOutput(dataTable, element);\n",
              "        const docLink = document.createElement('div');\n",
              "        docLink.innerHTML = docLinkHtml;\n",
              "        element.appendChild(docLink);\n",
              "      }\n",
              "    </script>\n",
              "  </div>\n",
              "\n",
              "\n",
              "<div id=\"df-b7a177c8-6175-48df-a065-5092f8007de2\">\n",
              "  <button class=\"colab-df-quickchart\" onclick=\"quickchart('df-b7a177c8-6175-48df-a065-5092f8007de2')\"\n",
              "            title=\"Suggest charts\"\n",
              "            style=\"display:none;\">\n",
              "\n",
              "<svg xmlns=\"http://www.w3.org/2000/svg\" height=\"24px\"viewBox=\"0 0 24 24\"\n",
              "     width=\"24px\">\n",
              "    <g>\n",
              "        <path d=\"M19 3H5c-1.1 0-2 .9-2 2v14c0 1.1.9 2 2 2h14c1.1 0 2-.9 2-2V5c0-1.1-.9-2-2-2zM9 17H7v-7h2v7zm4 0h-2V7h2v10zm4 0h-2v-4h2v4z\"/>\n",
              "    </g>\n",
              "</svg>\n",
              "  </button>\n",
              "\n",
              "<style>\n",
              "  .colab-df-quickchart {\n",
              "      --bg-color: #E8F0FE;\n",
              "      --fill-color: #1967D2;\n",
              "      --hover-bg-color: #E2EBFA;\n",
              "      --hover-fill-color: #174EA6;\n",
              "      --disabled-fill-color: #AAA;\n",
              "      --disabled-bg-color: #DDD;\n",
              "  }\n",
              "\n",
              "  [theme=dark] .colab-df-quickchart {\n",
              "      --bg-color: #3B4455;\n",
              "      --fill-color: #D2E3FC;\n",
              "      --hover-bg-color: #434B5C;\n",
              "      --hover-fill-color: #FFFFFF;\n",
              "      --disabled-bg-color: #3B4455;\n",
              "      --disabled-fill-color: #666;\n",
              "  }\n",
              "\n",
              "  .colab-df-quickchart {\n",
              "    background-color: var(--bg-color);\n",
              "    border: none;\n",
              "    border-radius: 50%;\n",
              "    cursor: pointer;\n",
              "    display: none;\n",
              "    fill: var(--fill-color);\n",
              "    height: 32px;\n",
              "    padding: 0;\n",
              "    width: 32px;\n",
              "  }\n",
              "\n",
              "  .colab-df-quickchart:hover {\n",
              "    background-color: var(--hover-bg-color);\n",
              "    box-shadow: 0 1px 2px rgba(60, 64, 67, 0.3), 0 1px 3px 1px rgba(60, 64, 67, 0.15);\n",
              "    fill: var(--button-hover-fill-color);\n",
              "  }\n",
              "\n",
              "  .colab-df-quickchart-complete:disabled,\n",
              "  .colab-df-quickchart-complete:disabled:hover {\n",
              "    background-color: var(--disabled-bg-color);\n",
              "    fill: var(--disabled-fill-color);\n",
              "    box-shadow: none;\n",
              "  }\n",
              "\n",
              "  .colab-df-spinner {\n",
              "    border: 2px solid var(--fill-color);\n",
              "    border-color: transparent;\n",
              "    border-bottom-color: var(--fill-color);\n",
              "    animation:\n",
              "      spin 1s steps(1) infinite;\n",
              "  }\n",
              "\n",
              "  @keyframes spin {\n",
              "    0% {\n",
              "      border-color: transparent;\n",
              "      border-bottom-color: var(--fill-color);\n",
              "      border-left-color: var(--fill-color);\n",
              "    }\n",
              "    20% {\n",
              "      border-color: transparent;\n",
              "      border-left-color: var(--fill-color);\n",
              "      border-top-color: var(--fill-color);\n",
              "    }\n",
              "    30% {\n",
              "      border-color: transparent;\n",
              "      border-left-color: var(--fill-color);\n",
              "      border-top-color: var(--fill-color);\n",
              "      border-right-color: var(--fill-color);\n",
              "    }\n",
              "    40% {\n",
              "      border-color: transparent;\n",
              "      border-right-color: var(--fill-color);\n",
              "      border-top-color: var(--fill-color);\n",
              "    }\n",
              "    60% {\n",
              "      border-color: transparent;\n",
              "      border-right-color: var(--fill-color);\n",
              "    }\n",
              "    80% {\n",
              "      border-color: transparent;\n",
              "      border-right-color: var(--fill-color);\n",
              "      border-bottom-color: var(--fill-color);\n",
              "    }\n",
              "    90% {\n",
              "      border-color: transparent;\n",
              "      border-bottom-color: var(--fill-color);\n",
              "    }\n",
              "  }\n",
              "</style>\n",
              "\n",
              "  <script>\n",
              "    async function quickchart(key) {\n",
              "      const quickchartButtonEl =\n",
              "        document.querySelector('#' + key + ' button');\n",
              "      quickchartButtonEl.disabled = true;  // To prevent multiple clicks.\n",
              "      quickchartButtonEl.classList.add('colab-df-spinner');\n",
              "      try {\n",
              "        const charts = await google.colab.kernel.invokeFunction(\n",
              "            'suggestCharts', [key], {});\n",
              "      } catch (error) {\n",
              "        console.error('Error during call to suggestCharts:', error);\n",
              "      }\n",
              "      quickchartButtonEl.classList.remove('colab-df-spinner');\n",
              "      quickchartButtonEl.classList.add('colab-df-quickchart-complete');\n",
              "    }\n",
              "    (() => {\n",
              "      let quickchartButtonEl =\n",
              "        document.querySelector('#df-b7a177c8-6175-48df-a065-5092f8007de2 button');\n",
              "      quickchartButtonEl.style.display =\n",
              "        google.colab.kernel.accessAllowed ? 'block' : 'none';\n",
              "    })();\n",
              "  </script>\n",
              "</div>\n",
              "    </div>\n",
              "  </div>\n"
            ]
          },
          "metadata": {},
          "execution_count": 5
        }
      ]
    },
    {
      "cell_type": "markdown",
      "source": [
        "# rock = 0,\n",
        "# scissors = 1\n",
        "# paper = 2,\n",
        "# ok =3."
      ],
      "metadata": {
        "id": "YnzSLWG4uU8D"
      }
    },
    {
      "cell_type": "code",
      "source": [
        "x = df.loc[:,0:63]\n",
        "y = df[64]"
      ],
      "metadata": {
        "execution": {
          "iopub.status.busy": "2023-01-16T20:24:35.774718Z",
          "iopub.execute_input": "2023-01-16T20:24:35.775215Z",
          "iopub.status.idle": "2023-01-16T20:24:35.784195Z",
          "shell.execute_reply.started": "2023-01-16T20:24:35.77517Z",
          "shell.execute_reply": "2023-01-16T20:24:35.783321Z"
        },
        "trusted": true,
        "id": "bYG6O3gvuU8E"
      },
      "execution_count": 6,
      "outputs": []
    },
    {
      "cell_type": "code",
      "source": [
        "y.unique()"
      ],
      "metadata": {
        "execution": {
          "iopub.status.busy": "2023-01-16T20:24:35.786649Z",
          "iopub.execute_input": "2023-01-16T20:24:35.786966Z",
          "iopub.status.idle": "2023-01-16T20:24:35.801576Z",
          "shell.execute_reply.started": "2023-01-16T20:24:35.786911Z",
          "shell.execute_reply": "2023-01-16T20:24:35.800699Z"
        },
        "trusted": true,
        "colab": {
          "base_uri": "https://localhost:8080/"
        },
        "id": "AVlrJZ_kuU8E",
        "outputId": "5b980454-3598-4cef-a9a6-3e78e7b47183"
      },
      "execution_count": 7,
      "outputs": [
        {
          "output_type": "execute_result",
          "data": {
            "text/plain": [
              "array([1, 2, 0, 3])"
            ]
          },
          "metadata": {},
          "execution_count": 7
        }
      ]
    },
    {
      "cell_type": "code",
      "source": [
        "print(\"All Data size X and y\")\n",
        "print(x.shape)\n",
        "print(y.shape)"
      ],
      "metadata": {
        "execution": {
          "iopub.status.busy": "2023-01-16T20:24:35.859776Z",
          "iopub.execute_input": "2023-01-16T20:24:35.859986Z",
          "iopub.status.idle": "2023-01-16T20:24:35.87466Z",
          "shell.execute_reply.started": "2023-01-16T20:24:35.859952Z",
          "shell.execute_reply": "2023-01-16T20:24:35.87375Z"
        },
        "trusted": true,
        "colab": {
          "base_uri": "https://localhost:8080/"
        },
        "id": "x5p4QticuU8E",
        "outputId": "280935c2-0f9d-4a6b-e2d6-e0c1e2bfadcb"
      },
      "execution_count": 8,
      "outputs": [
        {
          "output_type": "stream",
          "name": "stdout",
          "text": [
            "All Data size X and y\n",
            "(11678, 64)\n",
            "(11678,)\n"
          ]
        }
      ]
    },
    {
      "cell_type": "code",
      "source": [
        "from sklearn.model_selection import train_test_split\n",
        "x_train, x_test, y_train, y_test = train_test_split(x, y, test_size=0.20, random_state=42,stratify=y)"
      ],
      "metadata": {
        "execution": {
          "iopub.status.busy": "2023-01-16T20:24:35.888346Z",
          "iopub.execute_input": "2023-01-16T20:24:35.888557Z",
          "iopub.status.idle": "2023-01-16T20:24:35.970298Z",
          "shell.execute_reply.started": "2023-01-16T20:24:35.88853Z",
          "shell.execute_reply": "2023-01-16T20:24:35.969294Z"
        },
        "trusted": true,
        "id": "8GEjykPyuU8F"
      },
      "execution_count": 9,
      "outputs": []
    },
    {
      "cell_type": "code",
      "source": [
        "print(\"All Data size X and y\")\n",
        "print(x_train.shape)\n",
        "print(y_train.shape)"
      ],
      "metadata": {
        "execution": {
          "iopub.status.busy": "2023-01-16T20:24:35.971344Z",
          "iopub.execute_input": "2023-01-16T20:24:35.971567Z",
          "iopub.status.idle": "2023-01-16T20:24:35.977379Z",
          "shell.execute_reply.started": "2023-01-16T20:24:35.97154Z",
          "shell.execute_reply": "2023-01-16T20:24:35.976468Z"
        },
        "trusted": true,
        "colab": {
          "base_uri": "https://localhost:8080/"
        },
        "id": "1FxMI6J0uU8F",
        "outputId": "858fa097-a3b2-4186-908f-4d3b62c9feb4"
      },
      "execution_count": 10,
      "outputs": [
        {
          "output_type": "stream",
          "name": "stdout",
          "text": [
            "All Data size X and y\n",
            "(9342, 64)\n",
            "(9342,)\n"
          ]
        }
      ]
    },
    {
      "cell_type": "code",
      "source": [
        "print(\"Test Data size X and y\")\n",
        "print(x_test.shape)\n",
        "print(y_test.shape)"
      ],
      "metadata": {
        "execution": {
          "iopub.status.busy": "2023-01-16T20:24:35.978543Z",
          "iopub.execute_input": "2023-01-16T20:24:35.978755Z",
          "iopub.status.idle": "2023-01-16T20:24:35.990002Z",
          "shell.execute_reply.started": "2023-01-16T20:24:35.978729Z",
          "shell.execute_reply": "2023-01-16T20:24:35.989035Z"
        },
        "trusted": true,
        "colab": {
          "base_uri": "https://localhost:8080/"
        },
        "id": "hlNv4A7VuU8F",
        "outputId": "1f4584a2-c6f9-40fc-982f-f5a4f5e48bb8"
      },
      "execution_count": 11,
      "outputs": [
        {
          "output_type": "stream",
          "name": "stdout",
          "text": [
            "Test Data size X and y\n",
            "(2336, 64)\n",
            "(2336,)\n"
          ]
        }
      ]
    },
    {
      "cell_type": "code",
      "source": [
        "!pip install network\n",
        "!pip install utils"
      ],
      "metadata": {
        "colab": {
          "base_uri": "https://localhost:8080/"
        },
        "id": "RrM7cAJNQ-Xu",
        "outputId": "90e5e6b4-4643-4dcb-e748-d4e9087ece52"
      },
      "execution_count": 12,
      "outputs": [
        {
          "output_type": "stream",
          "name": "stdout",
          "text": [
            "Collecting network\n",
            "  Downloading network-0.1.tar.gz (2.8 kB)\n",
            "  Preparing metadata (setup.py) ... \u001b[?25l\u001b[?25hdone\n",
            "Building wheels for collected packages: network\n",
            "  Building wheel for network (setup.py) ... \u001b[?25l\u001b[?25hdone\n",
            "  Created wheel for network: filename=network-0.1-py3-none-any.whl size=3140 sha256=589e81e640e2655d96077577611e614cff478013611765acf9178f874cb53057\n",
            "  Stored in directory: /root/.cache/pip/wheels/25/97/b1/563d3a70ed8f588bf9cf448f079024a9751b54d15a0ce3d46b\n",
            "Successfully built network\n",
            "Installing collected packages: network\n",
            "Successfully installed network-0.1\n",
            "Collecting utils\n",
            "  Downloading utils-1.0.1-py2.py3-none-any.whl (21 kB)\n",
            "Installing collected packages: utils\n",
            "Successfully installed utils-1.0.1\n"
          ]
        }
      ]
    },
    {
      "cell_type": "code",
      "source": [
        "from torch import nn\n",
        "import torch\n",
        "from torch.utils.data import TensorDataset, DataLoader\n",
        "from torch.autograd import Variable\n",
        "import math\n",
        "from torch.nn import init\n",
        "device = torch.device('cuda' if torch.cuda.is_available() else 'cpu')\n",
        "\n",
        "import torch\n",
        "import torchvision\n",
        "import torchvision.transforms as transforms\n",
        "\n",
        "from torch import nn, optim\n",
        "import torch\n",
        "import utils\n",
        "import network\n",
        "import argparse\n",
        "import torch.nn.utils\n",
        "from pathlib import Path"
      ],
      "metadata": {
        "id": "uD0b_8sqQ6vu"
      },
      "execution_count": 13,
      "outputs": []
    },
    {
      "cell_type": "code",
      "source": [
        "class lstm(nn.Module):\n",
        "    def __init__(self, n_inp, n_hid, n_out):\n",
        "        super(lstm, self).__init__()\n",
        "        self.n_hid = n_hid\n",
        "        self.rnn = nn.LSTM(n_inp,n_hid)\n",
        "        self.readout = nn.Linear(n_hid, n_out)\n",
        "\n",
        "    def forward(self, x):\n",
        "        out, (hn,cn) = self.rnn(x)\n",
        "        output = self.readout(hn.squeeze(0))\n",
        "        return output"
      ],
      "metadata": {
        "id": "k6AkR9mdXqAt"
      },
      "execution_count": 14,
      "outputs": []
    },
    {
      "cell_type": "code",
      "source": [
        "x_train_tensor = torch.tensor(x_train.values, dtype=torch.float32)\n",
        "y_train_tensor = torch.tensor(y_train.values, dtype=torch.long)  # Assuming y_train is categorical (int)\n",
        "x_test_tensor = torch.tensor(x_test.values, dtype=torch.float32)\n",
        "y_test_tensor = torch.tensor(y_test.values, dtype=torch.long)    # Assuming y_test is categorical (int)\n",
        "\n",
        "# Create TensorDatasets\n",
        "train_dataset = TensorDataset(x_train_tensor, y_train_tensor)\n",
        "test_dataset = TensorDataset(x_test_tensor, y_test_tensor)\n",
        "total_length = len(train_dataset)\n",
        "train_length = int(0.8 * total_length)  # 80% for training\n",
        "valid_length = total_length - train_length  # Remaining for validation\n",
        "\n",
        "# Use the calculated lengths in random_split\n",
        "train_dataset, valid_dataset = torch.utils.data.random_split(train_dataset, [train_length, valid_length])\n",
        "# Create DataLoader instances\n",
        "batch_size = 32  # You can adjust this based on your preference\n",
        "train_loader = DataLoader(train_dataset, batch_size=batch_size, shuffle=True)\n",
        "valid_loader = DataLoader(valid_dataset, batch_size=batch_size, shuffle=True)\n",
        "test_loader = DataLoader(test_dataset, batch_size=batch_size, shuffle=False)"
      ],
      "metadata": {
        "id": "oRk19YVjRFKH"
      },
      "execution_count": 15,
      "outputs": []
    },
    {
      "cell_type": "code",
      "source": [
        "args = {\"n_hid\":128,\n",
        "      \"epochs\" : 10,\n",
        "      \"batch\":50,\n",
        "      \"batch_test\":1000,\n",
        "      \"lr\":2e-2,\n",
        "      \"dt\":6e-2,\n",
        "      \"gamma\":66,\n",
        "      \"epsilon\":15}"
      ],
      "metadata": {
        "id": "SLiTux-uRehr"
      },
      "execution_count": 16,
      "outputs": []
    },
    {
      "cell_type": "code",
      "source": [
        "# n_inp = input_size = x.shape[1]\n",
        "n_inp = 1\n",
        "# print(n_inp)\n",
        "n_out = 4\n",
        "# model = coRNN(n_inp, args['n_hid'], n_out,args['dt'], args['gamma'], args['epsilon'])\n",
        "model = lstm(n_inp, args['n_hid'], n_out)\n",
        "# train_loader, valid_loader, test_loader = get_data(args['batch'],1000)\n",
        "# model.summary()"
      ],
      "metadata": {
        "id": "sh90xoKYRhvT"
      },
      "execution_count": 17,
      "outputs": []
    },
    {
      "cell_type": "code",
      "source": [
        "def binary_accuracy(preds, y):\n",
        "    # print(preds.shape)\n",
        "    rounded_preds = torch.argmax(torch.sigmoid(preds),axis=1)\n",
        "    # print(rounded_preds.shape)\n",
        "    # print(y.shape)\n",
        "    correct = (rounded_preds == y).float()  # convert into float for division\n",
        "    acc = correct.sum() / len(correct)\n",
        "    return acc"
      ],
      "metadata": {
        "id": "JTW3soSIRlSL"
      },
      "execution_count": 18,
      "outputs": []
    },
    {
      "cell_type": "code",
      "source": [
        "def test(dataloader):\n",
        "    epoch_acc = 0\n",
        "    model.eval()\n",
        "    with torch.no_grad():\n",
        "        for i, (data, labels) in enumerate(dataloader):\n",
        "            data = data.permute(1, 0)\n",
        "            data = data.reshape(data.shape[0],data.shape[1],1)\n",
        "            predictions = model(data)\n",
        "            acc = binary_accuracy(predictions, labels)\n",
        "            epoch_acc += acc\n",
        "    accuracy = epoch_acc / len(dataloader)\n",
        "    return accuracy*100"
      ],
      "metadata": {
        "id": "hrEF8qR5RobC"
      },
      "execution_count": 19,
      "outputs": []
    },
    {
      "cell_type": "code",
      "source": [
        "objective = nn.CrossEntropyLoss()\n",
        "optimizer = optim.Adam(model.parameters(), lr=args['lr'])"
      ],
      "metadata": {
        "id": "9evQoZmARsed"
      },
      "execution_count": 20,
      "outputs": []
    },
    {
      "cell_type": "code",
      "source": [
        "best_valid_accuracy = 0.0\n",
        "best_model_state_dict = None\n",
        "\n",
        "for epoch in range(args['epochs']):\n",
        "    model.train()\n",
        "    for i, (data, labels) in enumerate(train_loader):\n",
        "        data = data.permute(1, 0)\n",
        "        optimizer.zero_grad()\n",
        "        data = data.reshape(data.shape[0], data.shape[1], 1)\n",
        "        output = model(data)\n",
        "        loss = objective(output, labels)\n",
        "        loss.backward()\n",
        "        optimizer.step()\n",
        "\n",
        "    eval_acc = test(valid_loader)\n",
        "    print(epoch, 'Valid set: Accuracy: {:.2f}%\\n'.format(eval_acc))\n",
        "\n",
        "    # Save the model checkpoint if the current validation accuracy is better\n",
        "    if eval_acc > best_valid_accuracy:\n",
        "        best_valid_accuracy = eval_acc\n",
        "        best_model_state_dict = model.state_dict()\n",
        "        torch.save(model.state_dict(), 'best_model_checkpoint.pth')\n",
        "\n",
        "# Load the best model for testing\n",
        "if best_model_state_dict is not None:\n",
        "    model.load_state_dict(best_model_state_dict)\n",
        "\n",
        "# Test the model\n",
        "test_acc = test(test_loader)\n",
        "print('Test set:  Accuracy: {:.2f}%\\n'.format(test_acc))"
      ],
      "metadata": {
        "id": "2OP8ARVmRwRF",
        "colab": {
          "base_uri": "https://localhost:8080/"
        },
        "outputId": "aff2080d-616e-40b4-8f65-7e03af4416cd"
      },
      "execution_count": 21,
      "outputs": [
        {
          "output_type": "stream",
          "name": "stdout",
          "text": [
            "0 Valid set: Accuracy: 61.83%\n",
            "\n",
            "1 Valid set: Accuracy: 63.20%\n",
            "\n",
            "2 Valid set: Accuracy: 50.57%\n",
            "\n",
            "3 Valid set: Accuracy: 62.59%\n",
            "\n",
            "4 Valid set: Accuracy: 63.46%\n",
            "\n",
            "5 Valid set: Accuracy: 73.26%\n",
            "\n",
            "6 Valid set: Accuracy: 75.01%\n",
            "\n",
            "7 Valid set: Accuracy: 71.24%\n",
            "\n",
            "8 Valid set: Accuracy: 70.40%\n",
            "\n",
            "9 Valid set: Accuracy: 64.76%\n",
            "\n",
            "Test set:  Accuracy: 66.01%\n",
            "\n"
          ]
        }
      ]
    },
    {
      "cell_type": "code",
      "source": [
        "# confusion matrix\n",
        "import seaborn as sns\n",
        "# Predict the values from the validation dataset\n",
        "x_test = np.array(x_test)\n",
        "print(x_test.shape)\n",
        "x_test_tensor = torch.tensor(x_test, dtype=torch.float32)\n",
        "print(x_test_tensor.shape)\n",
        "# Make sure to move the tensor to the appropriate device if you're using GPU\n",
        "x_test_tensor = x_test_tensor.to(device)\n",
        "x_test_tensor = x_test_tensor.permute(1,0)\n",
        "print(x_test_tensor.shape)\n",
        "x_test_tensor = x_test_tensor.reshape(x_test_tensor.shape[0],x_test_tensor.shape[1],1)\n",
        "\n",
        "\n",
        "# Assuming model is your PyTorch model\n",
        "model.eval()  # Set the model to evaluation mode\n",
        "\n",
        "# Forward pass\n",
        "with torch.no_grad():\n",
        "    Y_pred = model(x_test_tensor)\n",
        "    print(Y_pred.shape)\n",
        "# Convert predictions classes to one-hot vectors\n",
        "Y_pred_classes = torch.argmax(torch.sigmoid(Y_pred),axis=1)"
      ],
      "metadata": {
        "execution": {
          "iopub.status.busy": "2023-01-16T20:29:15.317473Z",
          "iopub.execute_input": "2023-01-16T20:29:15.317722Z",
          "iopub.status.idle": "2023-01-16T20:29:18.022469Z",
          "shell.execute_reply.started": "2023-01-16T20:29:15.317691Z",
          "shell.execute_reply": "2023-01-16T20:29:18.021457Z"
        },
        "trusted": true,
        "id": "Py2j-ATpuU8F",
        "colab": {
          "base_uri": "https://localhost:8080/"
        },
        "outputId": "fbbf9865-4d2e-4db7-f92a-64b35a38a895"
      },
      "execution_count": 22,
      "outputs": [
        {
          "output_type": "stream",
          "name": "stdout",
          "text": [
            "(2336, 64)\n",
            "torch.Size([2336, 64])\n",
            "torch.Size([64, 2336])\n",
            "torch.Size([2336, 4])\n"
          ]
        }
      ]
    },
    {
      "cell_type": "code",
      "source": [
        "confusion_mtx = confusion_matrix(y_test, Y_pred_classes)\n",
        "# plot the confusion matrix"
      ],
      "metadata": {
        "execution": {
          "iopub.status.busy": "2023-01-16T20:29:18.024556Z",
          "iopub.execute_input": "2023-01-16T20:29:18.024903Z",
          "iopub.status.idle": "2023-01-16T20:29:18.034521Z",
          "shell.execute_reply.started": "2023-01-16T20:29:18.024839Z",
          "shell.execute_reply": "2023-01-16T20:29:18.033617Z"
        },
        "trusted": true,
        "id": "YEBF8_aVuU8F"
      },
      "execution_count": 23,
      "outputs": []
    },
    {
      "cell_type": "code",
      "source": [
        "f,ax = plt.subplots(figsize=(8, 8))\n",
        "sns.heatmap(confusion_mtx, annot=True, linewidths=0.01,cmap=\"Greens\",linecolor=\"gray\", fmt= '.1f',ax=ax)\n",
        "plt.xlabel(\"Predicted Label\")\n",
        "plt.ylabel(\"True Label\")\n",
        "plt.title(\"Confusion Matrix\")\n",
        "plt.show()"
      ],
      "metadata": {
        "execution": {
          "iopub.status.busy": "2023-01-16T20:29:18.03567Z",
          "iopub.execute_input": "2023-01-16T20:29:18.036104Z",
          "iopub.status.idle": "2023-01-16T20:29:18.301706Z",
          "shell.execute_reply.started": "2023-01-16T20:29:18.036063Z",
          "shell.execute_reply": "2023-01-16T20:29:18.301079Z"
        },
        "trusted": true,
        "id": "3pC-BdTbuU8F",
        "colab": {
          "base_uri": "https://localhost:8080/",
          "height": 723
        },
        "outputId": "c7e32f18-1456-489c-c678-8a10d5d2e12d"
      },
      "execution_count": 24,
      "outputs": [
        {
          "output_type": "display_data",
          "data": {
            "text/plain": [
              "<Figure size 800x800 with 2 Axes>"
            ],
            "image/png": "[encoded data removed]"
          },
          "metadata": {}
        }
      ]
    },
    {
      "cell_type": "code",
      "source": [
        "from sklearn.metrics import classification_report\n",
        "\n",
        "print(classification_report(y_test, Y_pred_classes))"
      ],
      "metadata": {
        "execution": {
          "iopub.status.busy": "2023-01-16T20:29:18.302957Z",
          "iopub.execute_input": "2023-01-16T20:29:18.30368Z",
          "iopub.status.idle": "2023-01-16T20:29:18.31798Z",
          "shell.execute_reply.started": "2023-01-16T20:29:18.303635Z",
          "shell.execute_reply": "2023-01-16T20:29:18.31707Z"
        },
        "trusted": true,
        "id": "0SV9AAj-uU8G",
        "colab": {
          "base_uri": "https://localhost:8080/"
        },
        "outputId": "226cffe1-e086-47c5-8179-fe7e06bf1bae"
      },
      "execution_count": 25,
      "outputs": [
        {
          "output_type": "stream",
          "name": "stdout",
          "text": [
            "              precision    recall  f1-score   support\n",
            "\n",
            "           0       0.82      0.79      0.81       582\n",
            "           1       0.90      0.51      0.65       581\n",
            "           2       0.62      0.56      0.59       589\n",
            "           3       0.50      0.78      0.61       584\n",
            "\n",
            "    accuracy                           0.66      2336\n",
            "   macro avg       0.71      0.66      0.66      2336\n",
            "weighted avg       0.71      0.66      0.66      2336\n",
            "\n"
          ]
        }
      ]
    }
  ]
}